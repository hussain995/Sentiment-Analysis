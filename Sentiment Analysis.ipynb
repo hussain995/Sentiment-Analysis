{
 "cells": [
  {
   "cell_type": "markdown",
   "id": "13427d5f",
   "metadata": {},
   "source": [
    "### Classify a review as positive or negative using Spark.\n",
    "\n",
    "We have a dataset containing review of movies, each review is labeled as \"positive\" or \"negative\". In this notebook we will analyze this data and attempt to train a model to classify a review as \"positive\" or \"negative\"."
   ]
  },
  {
   "cell_type": "markdown",
   "id": "bb40ed7a",
   "metadata": {},
   "source": [
    "# Data Loading and Cleaning"
   ]
  },
  {
   "cell_type": "code",
   "execution_count": 202,
   "id": "2c30a4f4",
   "metadata": {},
   "outputs": [],
   "source": [
    "import os\n",
    "import pandas as pd\n",
    "\n",
    "#Setting up the main directories that contain the data\n",
    "train_dir = os.getcwd() + \"/aclImdb/train/\"\n",
    "test_dir = os.getcwd() + \"/aclImdb/test/\""
   ]
  },
  {
   "cell_type": "code",
   "execution_count": 206,
   "id": "b4e50f0c",
   "metadata": {},
   "outputs": [
    {
     "name": "stdout",
     "output_type": "stream",
     "text": [
      "['For a movie that gets no respect there sure are a lot of memorable quotes listed for this gem. Imagine a movie where Joe Piscopo is actually funny! Maureen Stapleton is a scene stealer. The Moroni character is an absolute scream. Watch for Alan \"The Skipper\" Hale jr. as a police Sgt.']\n"
     ]
    }
   ],
   "source": [
    "#Take a look at one review\n",
    "\n",
    "target_dir = train_dir + \"pos\"\n",
    "\n",
    "for file in os.listdir(target_dir)[:1]:\n",
    "    open_file = open(target_dir + '/' + file, 'r')\n",
    "    line_list = open_file.readlines()\n",
    "    print(line_list)"
   ]
  },
  {
   "cell_type": "code",
   "execution_count": 225,
   "id": "527b162f",
   "metadata": {},
   "outputs": [],
   "source": [
    "#Function to load data in a pandas dataframe\n",
    "\n",
    "def get_data(data_dir):\n",
    "    reviews = []\n",
    "    labels = []\n",
    "    for directory in os.listdir(data_dir)[1:]:\n",
    "        target_dir = data_dir + directory\n",
    "        for file in os.listdir(target_dir):\n",
    "            opened = open(target_dir + '/' + file, 'r')\n",
    "            reviews.append(opened.readlines()[0])\n",
    "            labels.append(directory)\n",
    "    return pd.DataFrame({\"Reviews\": reviews, \"Labels\": labels})"
   ]
  },
  {
   "cell_type": "code",
   "execution_count": 226,
   "id": "76df3f75",
   "metadata": {},
   "outputs": [
    {
     "data": {
      "text/html": [
       "<div>\n",
       "<style scoped>\n",
       "    .dataframe tbody tr th:only-of-type {\n",
       "        vertical-align: middle;\n",
       "    }\n",
       "\n",
       "    .dataframe tbody tr th {\n",
       "        vertical-align: top;\n",
       "    }\n",
       "\n",
       "    .dataframe thead th {\n",
       "        text-align: right;\n",
       "    }\n",
       "</style>\n",
       "<table border=\"1\" class=\"dataframe\">\n",
       "  <thead>\n",
       "    <tr style=\"text-align: right;\">\n",
       "      <th></th>\n",
       "      <th>Reviews</th>\n",
       "      <th>Labels</th>\n",
       "    </tr>\n",
       "  </thead>\n",
       "  <tbody>\n",
       "    <tr>\n",
       "      <th>0</th>\n",
       "      <td>Working with one of the best Shakespeare sourc...</td>\n",
       "      <td>neg</td>\n",
       "    </tr>\n",
       "    <tr>\n",
       "      <th>1</th>\n",
       "      <td>Well...tremors I, the original started off in ...</td>\n",
       "      <td>neg</td>\n",
       "    </tr>\n",
       "    <tr>\n",
       "      <th>2</th>\n",
       "      <td>Ouch! This one was a bit painful to sit throug...</td>\n",
       "      <td>neg</td>\n",
       "    </tr>\n",
       "    <tr>\n",
       "      <th>3</th>\n",
       "      <td>I've seen some crappy movies in my life, but t...</td>\n",
       "      <td>neg</td>\n",
       "    </tr>\n",
       "    <tr>\n",
       "      <th>4</th>\n",
       "      <td>\"Carriers\" follows the exploits of two guys an...</td>\n",
       "      <td>neg</td>\n",
       "    </tr>\n",
       "  </tbody>\n",
       "</table>\n",
       "</div>"
      ],
      "text/plain": [
       "                                             Reviews Labels\n",
       "0  Working with one of the best Shakespeare sourc...    neg\n",
       "1  Well...tremors I, the original started off in ...    neg\n",
       "2  Ouch! This one was a bit painful to sit throug...    neg\n",
       "3  I've seen some crappy movies in my life, but t...    neg\n",
       "4  \"Carriers\" follows the exploits of two guys an...    neg"
      ]
     },
     "execution_count": 226,
     "metadata": {},
     "output_type": "execute_result"
    }
   ],
   "source": [
    "#Load data\n",
    "train_df = get_data(train_dir)\n",
    "test_df = get_data(test_dir)\n",
    "\n",
    "train_df.head()"
   ]
  },
  {
   "cell_type": "code",
   "execution_count": 227,
   "id": "03791e3e",
   "metadata": {},
   "outputs": [
    {
     "data": {
      "text/html": [
       "<div>\n",
       "<style scoped>\n",
       "    .dataframe tbody tr th:only-of-type {\n",
       "        vertical-align: middle;\n",
       "    }\n",
       "\n",
       "    .dataframe tbody tr th {\n",
       "        vertical-align: top;\n",
       "    }\n",
       "\n",
       "    .dataframe thead th {\n",
       "        text-align: right;\n",
       "    }\n",
       "</style>\n",
       "<table border=\"1\" class=\"dataframe\">\n",
       "  <thead>\n",
       "    <tr style=\"text-align: right;\">\n",
       "      <th></th>\n",
       "      <th>Reviews</th>\n",
       "      <th>Labels</th>\n",
       "    </tr>\n",
       "  </thead>\n",
       "  <tbody>\n",
       "    <tr>\n",
       "      <th>24006</th>\n",
       "      <td>This is, by all categories, the best movie I h...</td>\n",
       "      <td>1</td>\n",
       "    </tr>\n",
       "    <tr>\n",
       "      <th>7934</th>\n",
       "      <td>I saw this movie when I was really little. It ...</td>\n",
       "      <td>0</td>\n",
       "    </tr>\n",
       "    <tr>\n",
       "      <th>13139</th>\n",
       "      <td>This is by far one of my favorite of the Ameri...</td>\n",
       "      <td>1</td>\n",
       "    </tr>\n",
       "    <tr>\n",
       "      <th>3582</th>\n",
       "      <td>I was looking on Imdbs bottom 100 because i th...</td>\n",
       "      <td>0</td>\n",
       "    </tr>\n",
       "    <tr>\n",
       "      <th>6617</th>\n",
       "      <td>I'm just quite disappointed with \"Soul Survivo...</td>\n",
       "      <td>0</td>\n",
       "    </tr>\n",
       "  </tbody>\n",
       "</table>\n",
       "</div>"
      ],
      "text/plain": [
       "                                                 Reviews  Labels\n",
       "24006  This is, by all categories, the best movie I h...       1\n",
       "7934   I saw this movie when I was really little. It ...       0\n",
       "13139  This is by far one of my favorite of the Ameri...       1\n",
       "3582   I was looking on Imdbs bottom 100 because i th...       0\n",
       "6617   I'm just quite disappointed with \"Soul Survivo...       0"
      ]
     },
     "execution_count": 227,
     "metadata": {},
     "output_type": "execute_result"
    }
   ],
   "source": [
    "#Convert categorical labels to integers\n",
    "\n",
    "train_df[\"Labels\"] = train_df[\"Labels\"].map({\"neg\": 0, \"pos\": 1})\n",
    "test_df[\"Labels\"] = test_df[\"Labels\"].map({\"neg\": 0, \"pos\": 1})\n",
    "\n",
    "#Shuffle the datasets\n",
    "train_df = train_df.sample(frac=1)\n",
    "test_df = test_df.sample(frac=1)\n",
    "\n",
    "train_df.head()"
   ]
  },
  {
   "cell_type": "code",
   "execution_count": 214,
   "id": "48206539",
   "metadata": {},
   "outputs": [],
   "source": [
    "from pyspark.sql import SparkSession"
   ]
  },
  {
   "cell_type": "code",
   "execution_count": 228,
   "id": "b0217d6e",
   "metadata": {},
   "outputs": [],
   "source": [
    "#Create spark session\n",
    "spark = SparkSession.builder.appName(\"SentimentAnalysis\").getOrCreate()"
   ]
  },
  {
   "cell_type": "code",
   "execution_count": 229,
   "id": "c2174679",
   "metadata": {},
   "outputs": [],
   "source": [
    "spark.sparkContext.setLogLevel(\"OFF\")"
   ]
  },
  {
   "cell_type": "code",
   "execution_count": 230,
   "id": "8163012b",
   "metadata": {},
   "outputs": [
    {
     "name": "stdout",
     "output_type": "stream",
     "text": [
      "root\n",
      " |-- Reviews: string (nullable = true)\n",
      " |-- Labels: long (nullable = true)\n",
      "\n"
     ]
    },
    {
     "name": "stderr",
     "output_type": "stream",
     "text": [
      "\r",
      "[Stage 549:>                                                        (0 + 1) / 1]\r"
     ]
    },
    {
     "name": "stdout",
     "output_type": "stream",
     "text": [
      "+--------------------+------+\n",
      "|             Reviews|Labels|\n",
      "+--------------------+------+\n",
      "|This is, by all c...|     1|\n",
      "|I saw this movie ...|     0|\n",
      "|This is by far on...|     1|\n",
      "|I was looking on ...|     0|\n",
      "|I'm just quite di...|     0|\n",
      "|Greetings again f...|     1|\n",
      "|So, this movie ha...|     0|\n",
      "|Renown writer Mar...|     0|\n",
      "|Another variation...|     0|\n",
      "|I have looked for...|     1|\n",
      "|Just saw the movi...|     0|\n",
      "|This film is a jo...|     1|\n",
      "|This film is the ...|     0|\n",
      "|Artimisia was on ...|     1|\n",
      "|Wonderful family ...|     1|\n",
      "|- SMALL SPOILER H...|     1|\n",
      "|The movie itself ...|     1|\n",
      "|The original show...|     0|\n",
      "|What a wasted cas...|     0|\n",
      "|\"Hitler, the rise...|     1|\n",
      "+--------------------+------+\n",
      "only showing top 20 rows\n",
      "\n"
     ]
    },
    {
     "name": "stderr",
     "output_type": "stream",
     "text": [
      "\r",
      "                                                                                \r"
     ]
    }
   ],
   "source": [
    "#Convert the dataframe to a spark dataframe\n",
    "train_df_spark = spark.createDataFrame(train_df)\n",
    "test_df_spark = spark.createDataFrame(test_df)\n",
    "train_df_spark.printSchema()\n",
    "train_df_spark.show()"
   ]
  },
  {
   "cell_type": "code",
   "execution_count": 231,
   "id": "2f7e742e",
   "metadata": {},
   "outputs": [],
   "source": [
    "from pyspark.ml.feature import RegexTokenizer, Word2Vec\n",
    "from pyspark.ml.classification import LogisticRegression\n",
    "from pyspark.ml import Pipeline"
   ]
  },
  {
   "cell_type": "code",
   "execution_count": 232,
   "id": "23983a0b",
   "metadata": {},
   "outputs": [],
   "source": [
    "#Regular expression tokenizer\n",
    "\n",
    "regexTokenizer = RegexTokenizer(inputCol=\"Reviews\", outputCol=\"Words\", pattern=\"\\W\")\n",
    "\n",
    "word2Vec = Word2Vec(vectorSize=20,inputCol=\"Words\", outputCol=\"Features\")\n",
    "     "
   ]
  },
  {
   "cell_type": "code",
   "execution_count": 233,
   "id": "1308e7ab",
   "metadata": {},
   "outputs": [
    {
     "name": "stderr",
     "output_type": "stream",
     "text": [
      "                                                                                \r"
     ]
    }
   ],
   "source": [
    "pipe = Pipeline(stages=[regexTokenizer, word2Vec])\n",
    "\n",
    "#Fit the pipeline and transform the data\n",
    "\n",
    "fitted_pipe_train = pipe.fit(train_df_spark)\n",
    "fitted_pipe_test = pipe.fit(test_df_spark)\n",
    "\n",
    "df_train = fitted_pipe.transform(train_df_spark)\n",
    "df_test = fitted_pipe.transform(test_df_spark)"
   ]
  },
  {
   "cell_type": "code",
   "execution_count": 234,
   "id": "0d29cc74",
   "metadata": {},
   "outputs": [
    {
     "name": "stdout",
     "output_type": "stream",
     "text": [
      "+--------------------+------+--------------------+--------------------+\n",
      "|             Reviews|Labels|               Words|            Features|\n",
      "+--------------------+------+--------------------+--------------------+\n",
      "|This is, by all c...|     1|[this, is, by, al...|[-0.0534475129422...|\n",
      "|I saw this movie ...|     0|[i, saw, this, mo...|[-0.0875566846122...|\n",
      "|This is by far on...|     1|[this, is, by, fa...|[-0.0813220515088...|\n",
      "|I was looking on ...|     0|[i, was, looking,...|[-0.0826543765771...|\n",
      "|I'm just quite di...|     0|[i, m, just, quit...|[-0.0625450603401...|\n",
      "|Greetings again f...|     1|[greetings, again...|[-0.0430543737529...|\n",
      "|So, this movie ha...|     0|[so, this, movie,...|[-0.0816953717588...|\n",
      "|Renown writer Mar...|     0|[renown, writer, ...|[-0.0719920042913...|\n",
      "|Another variation...|     0|[another, variati...|[-0.0925688853321...|\n",
      "|I have looked for...|     1|[i, have, looked,...|[-0.0229801038178...|\n",
      "|Just saw the movi...|     0|[just, saw, the, ...|[-0.1102866693851...|\n",
      "|This film is a jo...|     1|[this, film, is, ...|[-0.0696920180666...|\n",
      "|This film is the ...|     0|[this, film, is, ...|[-0.1277524529335...|\n",
      "|Artimisia was on ...|     1|[artimisia, was, ...|[-0.0997067873680...|\n",
      "|Wonderful family ...|     1|[wonderful, famil...|[-0.0731328900702...|\n",
      "|- SMALL SPOILER H...|     1|[small, spoiler, ...|[-0.0847364700383...|\n",
      "|The movie itself ...|     1|[the, movie, itse...|[-0.0667734153320...|\n",
      "|The original show...|     0|[the, original, s...|[-0.0842845724044...|\n",
      "|What a wasted cas...|     0|[what, a, wasted,...|[-0.0146235748007...|\n",
      "|\"Hitler, the rise...|     1|[hitler, the, ris...|[-0.1087364949942...|\n",
      "+--------------------+------+--------------------+--------------------+\n",
      "only showing top 20 rows\n",
      "\n",
      "+--------------------+------+--------------------+--------------------+\n",
      "|             Reviews|Labels|               Words|            Features|\n",
      "+--------------------+------+--------------------+--------------------+\n",
      "|I have seen chees...|     0|[i, have, seen, c...|[-0.1103554659147...|\n",
      "|Blake Edwards tri...|     0|[blake, edwards, ...|[-0.0862969321237...|\n",
      "|This is a magnifi...|     1|[this, is, a, mag...|[-0.1007283014137...|\n",
      "|I saw this movie ...|     0|[i, saw, this, mo...|[-0.0712505594345...|\n",
      "|I would be intere...|     1|[i, would, be, in...|[-0.1023515172371...|\n",
      "|The story starts ...|     1|[the, story, star...|[-0.1056147102887...|\n",
      "|This was amongst ...|     0|[this, was, among...|[-0.1583623750423...|\n",
      "|It's a kinder, ge...|     0|[it, s, a, kinder...|[-0.0820310323724...|\n",
      "|While the promine...|     0|[while, the, prom...|[-0.0996341569042...|\n",
      "|The first time I'...|     1|[the, first, time...|[-0.1178109742539...|\n",
      "|Not even 'lesser'...|     0|[not, even, lesse...|[-0.1009778570081...|\n",
      "|The major flaw in...|     0|[the, major, flaw...|[-0.1278692956925...|\n",
      "|One way or the ot...|     1|[one, way, or, th...|[-0.0846592177046...|\n",
      "|The '80's were th...|     0|[the, 80, s, were...|[-0.1199515965212...|\n",
      "|Renting this dire...|     0|[renting, this, d...|[-0.1341459353316...|\n",
      "|The Duke is a ver...|     1|[the, duke, is, a...|[-0.0772448602377...|\n",
      "|Um .... a serious...|     1|[um, a, serious, ...|[-0.0650167136024...|\n",
      "|Tacky, but mildly...|     0|[tacky, but, mild...|[-0.0972829493855...|\n",
      "|OK....so, by minu...|     1|[ok, so, by, minu...|[-0.0959222180388...|\n",
      "|So pathetic its n...|     0|[so, pathetic, it...|[-0.1335437355515...|\n",
      "+--------------------+------+--------------------+--------------------+\n",
      "only showing top 20 rows\n",
      "\n"
     ]
    }
   ],
   "source": [
    "df_train.show()\n",
    "df_test.show()"
   ]
  },
  {
   "cell_type": "code",
   "execution_count": 235,
   "id": "a31108df",
   "metadata": {},
   "outputs": [
    {
     "name": "stdout",
     "output_type": "stream",
     "text": [
      "+--------------------+------+--------------------+--------------------+--------------------+--------------------+----------+\n",
      "|             Reviews|Labels|               Words|            Features|       rawPrediction|         probability|prediction|\n",
      "+--------------------+------+--------------------+--------------------+--------------------+--------------------+----------+\n",
      "|I have seen chees...|     0|[i, have, seen, c...|[-0.1103554659147...|[1.98756888035946...|[0.87948569932601...|       0.0|\n",
      "|Blake Edwards tri...|     0|[blake, edwards, ...|[-0.0862969321237...|[0.19742466795112...|[0.54919647848391...|       0.0|\n",
      "|This is a magnifi...|     1|[this, is, a, mag...|[-0.1007283014137...|[-0.8432594319228...|[0.30084875435074...|       1.0|\n",
      "|I saw this movie ...|     0|[i, saw, this, mo...|[-0.0712505594345...|[1.10962673198969...|[0.75205951619537...|       0.0|\n",
      "|I would be intere...|     1|[i, would, be, in...|[-0.1023515172371...|[-0.2549104015477...|[0.43661525325260...|       1.0|\n",
      "|The story starts ...|     1|[the, story, star...|[-0.1056147102887...|[-1.5898780247574...|[0.16940105868794...|       1.0|\n",
      "|This was amongst ...|     0|[this, was, among...|[-0.1583623750423...|[0.60549639121996...|[0.64691278483636...|       0.0|\n",
      "|It's a kinder, ge...|     0|[it, s, a, kinder...|[-0.0820310323724...|[0.42914610010372...|[0.60566974659788...|       0.0|\n",
      "|While the promine...|     0|[while, the, prom...|[-0.0996341569042...|[-0.3835066341809...|[0.40528141871993...|       1.0|\n",
      "|The first time I'...|     1|[the, first, time...|[-0.1178109742539...|[-1.9265295901444...|[0.12713519981060...|       1.0|\n",
      "+--------------------+------+--------------------+--------------------+--------------------+--------------------+----------+\n",
      "only showing top 10 rows\n",
      "\n"
     ]
    }
   ],
   "source": [
    "#Create and fit a logistic regression model\n",
    "logistic_reg = LogisticRegression(featuresCol='Features', labelCol='Labels', maxIter=10)\n",
    "\n",
    "lr_fit = logistic_reg.fit(df_train)\n",
    "\n",
    "#Get predictions\n",
    "preds = lr_fit.transform(df_test)\n",
    "preds.show(10)"
   ]
  },
  {
   "cell_type": "code",
   "execution_count": 236,
   "id": "1d097cd3",
   "metadata": {},
   "outputs": [
    {
     "name": "stdout",
     "output_type": "stream",
     "text": [
      "Train area under ROC: 0.84768048\n"
     ]
    },
    {
     "data": {
      "image/png": "[encoded data removed]",
      "text/plain": [
       "<Figure size 640x480 with 1 Axes>"
      ]
     },
     "metadata": {},
     "output_type": "display_data"
    }
   ],
   "source": [
    "import matplotlib.pyplot as plt\n",
    "\n",
    "#Plotting the ROC Curve\n",
    "summary = lr_fit.summary\n",
    "print(f\"Train area under ROC: {summary.areaUnderROC}\")\n",
    "roc_df = summary.roc.toPandas()\n",
    "plt.plot(roc_df[\"FPR\"], roc_df[\"TPR\"])\n",
    "plt.ylabel(\"False Positive Rate\")\n",
    "plt.xlabel(\"True Positive Rate\")\n",
    "plt.title(\"ROC Curve\")\n",
    "plt.show()"
   ]
  },
  {
   "cell_type": "code",
   "execution_count": 237,
   "id": "0ea4b99f",
   "metadata": {},
   "outputs": [
    {
     "name": "stderr",
     "output_type": "stream",
     "text": [
      "\r",
      "[Stage 601:>                                                        (0 + 8) / 8]\r",
      "\r",
      "                                                                                \r"
     ]
    },
    {
     "name": "stdout",
     "output_type": "stream",
     "text": [
      "Test area under ROC curve: 0.8250787679999999\n"
     ]
    }
   ],
   "source": [
    "from pyspark.ml.evaluation import BinaryClassificationEvaluator\n",
    "\n",
    "#Evaluate the test area under the ROC curve\n",
    "evaluator = BinaryClassificationEvaluator(\n",
    "                labelCol=\"Labels\", \n",
    "                rawPredictionCol=\"rawPrediction\", \n",
    "                metricName=\"areaUnderROC\")\n",
    "\n",
    "auc = evaluator.evaluate(preds)\n",
    "\n",
    "print (\"Test area under ROC curve:\", auc)\n"
   ]
  },
  {
   "cell_type": "markdown",
   "id": "58819e9d",
   "metadata": {},
   "source": [
    "### Try parameter tuning and 5-fold cross validation to try to get better performance"
   ]
  },
  {
   "cell_type": "code",
   "execution_count": 238,
   "id": "8a6b9b2d",
   "metadata": {},
   "outputs": [
    {
     "name": "stderr",
     "output_type": "stream",
     "text": [
      "                                                                                \r"
     ]
    }
   ],
   "source": [
    "from pyspark.ml.evaluation import BinaryClassificationEvaluator\n",
    "from pyspark.ml.linalg import Vectors\n",
    "from pyspark.ml.tuning import CrossValidator, ParamGridBuilder, CrossValidatorModel\n",
    "\n",
    "grid = ParamGridBuilder().addGrid(lr_fit.maxIter, [0, 1]).build()\n",
    "evaluator = BinaryClassificationEvaluator(labelCol=\"Labels\",\n",
    "                                         rawPredictionCol=\"rawPrediction\",\n",
    "                                         metricName=\"areaUnderROC\")\n",
    "cv = CrossValidator(estimator=logistic_reg,evaluator=evaluator, estimatorParamMaps=grid, numFolds=5)\n",
    "cvModel = cv.fit(df_train)"
   ]
  },
  {
   "cell_type": "code",
   "execution_count": 239,
   "id": "135dca5e",
   "metadata": {},
   "outputs": [],
   "source": [
    "best_model = cvModel.bestModel\n",
    "trainingSummary = best_model.summary"
   ]
  },
  {
   "cell_type": "code",
   "execution_count": 244,
   "id": "32ff7d66",
   "metadata": {},
   "outputs": [
    {
     "name": "stdout",
     "output_type": "stream",
     "text": [
      "Accuracy from 5-fold cross validation: 0.746803904\n"
     ]
    }
   ],
   "source": [
    "print(f\"Accuracy from 5-fold cross validation: {evaluator.evaluate(cvModel.transform(df_train))}\")"
   ]
  },
  {
   "cell_type": "markdown",
   "id": "c1dc5c7c",
   "metadata": {},
   "source": [
    "### Random Forest Model"
   ]
  },
  {
   "cell_type": "code",
   "execution_count": 246,
   "id": "ede72135",
   "metadata": {},
   "outputs": [
    {
     "name": "stdout",
     "output_type": "stream",
     "text": [
      "+--------------------+------+--------------------+--------------------+--------------------+--------------------+----------+\n",
      "|             Reviews|Labels|               Words|            Features|       rawPrediction|         probability|prediction|\n",
      "+--------------------+------+--------------------+--------------------+--------------------+--------------------+----------+\n",
      "|I have seen chees...|     0|[i, have, seen, c...|[-0.1103554659147...|[14.4837893853435...|[0.72418946926717...|       0.0|\n",
      "|Blake Edwards tri...|     0|[blake, edwards, ...|[-0.0862969321237...|[11.6586909995332...|[0.58293454997666...|       0.0|\n",
      "|This is a magnifi...|     1|[this, is, a, mag...|[-0.1007283014137...|[9.12136380708154...|[0.45606819035407...|       1.0|\n",
      "|I saw this movie ...|     0|[i, saw, this, mo...|[-0.0712505594345...|[14.6004194715787...|[0.73002097357893...|       0.0|\n",
      "|I would be intere...|     1|[i, would, be, in...|[-0.1023515172371...|[9.68494782815157...|[0.48424739140757...|       1.0|\n",
      "+--------------------+------+--------------------+--------------------+--------------------+--------------------+----------+\n",
      "only showing top 5 rows\n",
      "\n"
     ]
    }
   ],
   "source": [
    "from pyspark.ml.classification import RandomForestClassifier\n",
    "\n",
    "#Create and fit a random forest model\n",
    "random_forest = RandomForestClassifier(featuresCol='Features', labelCol='Labels')\n",
    "\n",
    "random_forest_fitted = random_forest.fit(df_train)\n",
    "preds = random_forest_fitted.transform(df_test)\n",
    "preds.show(5)"
   ]
  },
  {
   "cell_type": "code",
   "execution_count": 247,
   "id": "d539c510",
   "metadata": {},
   "outputs": [
    {
     "name": "stderr",
     "output_type": "stream",
     "text": [
      "\r",
      "[Stage 847:>                                                        (0 + 8) / 8]\r",
      "\r",
      "                                                                                \r"
     ]
    },
    {
     "name": "stdout",
     "output_type": "stream",
     "text": [
      "Training area under ROC: 0.8103824288\n"
     ]
    },
    {
     "data": {
      "image/png": "[encoded data removed]",
      "text/plain": [
       "<Figure size 640x480 with 1 Axes>"
      ]
     },
     "metadata": {},
     "output_type": "display_data"
    }
   ],
   "source": [
    "#Plot the ROC curve from training data\n",
    "train_summary = random_forest_fitted.summary\n",
    "print(f\"Training area under ROC: {train_summary.areaUnderROC}\")\n",
    "roc_df = train_summary.roc.toPandas()\n",
    "plt.plot(roc_df[\"FPR\"], roc_df[\"TPR\"])\n",
    "plt.xlabel(\"True Positive Rate\")\n",
    "plt.ylabel(\"False Positive Rate\")\n",
    "plt.title(\"ROC Curve\")\n",
    "plt.show()"
   ]
  },
  {
   "cell_type": "code",
   "execution_count": 248,
   "id": "a48b7fc0",
   "metadata": {},
   "outputs": [
    {
     "name": "stdout",
     "output_type": "stream",
     "text": [
      "Test area under ROC: 0.7772492608000001\n"
     ]
    },
    {
     "name": "stderr",
     "output_type": "stream",
     "text": [
      "\r",
      "[Stage 861:=====================>                                   (3 + 5) / 8]\r",
      "\r",
      "                                                                                \r"
     ]
    }
   ],
   "source": [
    "evaluator = BinaryClassificationEvaluator(\n",
    "                labelCol=\"Labels\", \n",
    "                rawPredictionCol=\"rawPrediction\", \n",
    "                metricName=\"areaUnderROC\")\n",
    "\n",
    "auc = evaluator.evaluate(preds)\n",
    "\n",
    "print (\"Test area under ROC:\", auc)\n"
   ]
  },
  {
   "cell_type": "markdown",
   "id": "8b1f2cba",
   "metadata": {},
   "source": [
    "#### As can be seen, the ranodm forest does worse on the training data"
   ]
  },
  {
   "cell_type": "markdown",
   "id": "5cd50526",
   "metadata": {},
   "source": [
    "### XGBoost Model"
   ]
  },
  {
   "cell_type": "code",
   "execution_count": 249,
   "id": "e013522a",
   "metadata": {},
   "outputs": [],
   "source": [
    "from xgboost.spark import SparkXGBClassifier"
   ]
  },
  {
   "cell_type": "code",
   "execution_count": 256,
   "id": "be0e47a7",
   "metadata": {},
   "outputs": [
    {
     "name": "stderr",
     "output_type": "stream",
     "text": [
      "[22:37:16] task 0 got new rank 0                                    (0 + 1) / 1]\n",
      "                                                                                \r"
     ]
    },
    {
     "name": "stdout",
     "output_type": "stream",
     "text": [
      "+--------------------+------+--------------------+--------------------+--------------------+----------+--------------------+\n",
      "|             Reviews|Labels|               Words|            Features|       rawPrediction|prediction|         probability|\n",
      "+--------------------+------+--------------------+--------------------+--------------------+----------+--------------------+\n",
      "|I have seen chees...|     0|[i, have, seen, c...|[-0.1103554659147...|[2.62772679328918...|       0.0|[0.93262487649917...|\n",
      "|Blake Edwards tri...|     0|[blake, edwards, ...|[-0.0862969321237...|[1.43411040306091...|       0.0|[0.80754095315933...|\n",
      "|This is a magnifi...|     1|[this, is, a, mag...|[-0.1007283014137...|[-2.0876135826110...|       1.0|[0.11030656099319...|\n",
      "|I saw this movie ...|     0|[i, saw, this, mo...|[-0.0712505594345...|[1.88192629814147...|       0.0|[0.86783224344253...|\n",
      "|I would be intere...|     1|[i, would, be, in...|[-0.1023515172371...|[-0.0850469619035...|       1.0|[0.47875106334686...|\n",
      "|The story starts ...|     1|[the, story, star...|[-0.1056147102887...|[-1.7325317859649...|       1.0|[0.15026402473449...|\n",
      "|This was amongst ...|     0|[this, was, among...|[-0.1583623750423...|[1.22194707393646...|       0.0|[0.77240598201751...|\n",
      "|It's a kinder, ge...|     0|[it, s, a, kinder...|[-0.0820310323724...|[1.28437685966491...|       0.0|[0.78319388628005...|\n",
      "|While the promine...|     0|[while, the, prom...|[-0.0996341569042...|[-0.7456330657005...|       1.0|[0.32177358865737...|\n",
      "|The first time I'...|     1|[the, first, time...|[-0.1178109742539...|[-3.0678648948669...|       1.0|[0.04445242881774...|\n",
      "|Not even 'lesser'...|     0|[not, even, lesse...|[-0.1009778570081...|[1.63873291015625...|       0.0|[0.83736246824264...|\n",
      "|The major flaw in...|     0|[the, major, flaw...|[-0.1278692956925...|[2.43435621261596...|       0.0|[0.91940987110137...|\n",
      "|One way or the ot...|     1|[one, way, or, th...|[-0.0846592177046...|[0.53218930959701...|       0.0|[0.62999355792999...|\n",
      "|The '80's were th...|     0|[the, 80, s, were...|[-0.1199515965212...|[0.01240614429116...|       0.0|[0.50310152769088...|\n",
      "|Renting this dire...|     0|[renting, this, d...|[-0.1341459353316...|[-0.6909082531929...|       1.0|[0.33383107185363...|\n",
      "|The Duke is a ver...|     1|[the, duke, is, a...|[-0.0772448602377...|[1.06811797618865...|       0.0|[0.74423885345458...|\n",
      "|Um .... a serious...|     1|[um, a, serious, ...|[-0.0650167136024...|[-0.0430973544716...|       1.0|[0.48922735452651...|\n",
      "|Tacky, but mildly...|     0|[tacky, but, mild...|[-0.0972829493855...|[0.66196674108505...|       0.0|[0.65970206260681...|\n",
      "|OK....so, by minu...|     1|[ok, so, by, minu...|[-0.0959222180388...|[1.01439940929412...|       0.0|[0.73388028144836...|\n",
      "|So pathetic its n...|     0|[so, pathetic, it...|[-0.1335437355515...|[2.47546958923339...|       0.0|[0.92240417003631...|\n",
      "+--------------------+------+--------------------+--------------------+--------------------+----------+--------------------+\n",
      "only showing top 20 rows\n",
      "\n"
     ]
    }
   ],
   "source": [
    "#Create and fit XGBoost classifier\n",
    "xgb_clf = SparkXGBClassifier(features_col=\"Features\",\n",
    "                            label_col=\"Labels\")\n",
    "\n",
    "xgb_fitted = xgb_clf.fit(df_train)\n",
    "preds = xgb_fitted.transform(df_test)\n",
    "preds.show()"
   ]
  },
  {
   "cell_type": "code",
   "execution_count": 262,
   "id": "7c1fb199",
   "metadata": {},
   "outputs": [
    {
     "name": "stderr",
     "output_type": "stream",
     "text": [
      "                                                                                \r"
     ]
    },
    {
     "name": "stdout",
     "output_type": "stream",
     "text": [
      "Test Area under ROC curve: 0.8192983360000001\n"
     ]
    }
   ],
   "source": [
    "#Evaluate the test area under ROC\n",
    "xgb_evaluator = BinaryClassificationEvaluator(labelCol=\"Labels\",\n",
    "                                             rawPredictionCol=\"rawPrediction\",\n",
    "                                             metricName=\"areaUnderROC\")\n",
    "\n",
    "auc = xgb_evaluator.evaluate(preds)\n",
    "\n",
    "print(f\"Test Area under ROC curve: {auc}\")"
   ]
  },
  {
   "cell_type": "markdown",
   "id": "2073f8e0",
   "metadata": {},
   "source": [
    "#### XGBoost does better than random forest but Logistic Regression still outperforms both of them."
   ]
  }
 ],
 "metadata": {
  "kernelspec": {
   "display_name": "Python 3 (ipykernel)",
   "language": "python",
   "name": "python3"
  },
  "language_info": {
   "codemirror_mode": {
    "name": "ipython",
    "version": 3
   },
   "file_extension": ".py",
   "mimetype": "text/x-python",
   "name": "python",
   "nbconvert_exporter": "python",
   "pygments_lexer": "ipython3",
   "version": "3.10.9"
  }
 },
 "nbformat": 4,
 "nbformat_minor": 5
}
